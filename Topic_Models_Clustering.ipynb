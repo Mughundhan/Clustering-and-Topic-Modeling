{
 "cells": [
  {
   "cell_type": "markdown",
   "metadata": {},
   "source": [
    "## Topic Modeling in Song Lyrics"
   ]
  },
  {
   "cell_type": "markdown",
   "metadata": {},
   "source": [
    "### 1. Load all data and vectorize it with tf-idf vectorization. "
   ]
  },
  {
   "cell_type": "code",
   "execution_count": 1,
   "metadata": {},
   "outputs": [
    {
     "data": {
      "text/html": [
       "<div>\n",
       "<style scoped>\n",
       "    .dataframe tbody tr th:only-of-type {\n",
       "        vertical-align: middle;\n",
       "    }\n",
       "\n",
       "    .dataframe tbody tr th {\n",
       "        vertical-align: top;\n",
       "    }\n",
       "\n",
       "    .dataframe thead th {\n",
       "        text-align: right;\n",
       "    }\n",
       "</style>\n",
       "<table border=\"1\" class=\"dataframe\">\n",
       "  <thead>\n",
       "    <tr style=\"text-align: right;\">\n",
       "      <th></th>\n",
       "      <th>artist</th>\n",
       "      <th>song</th>\n",
       "      <th>link</th>\n",
       "      <th>text</th>\n",
       "    </tr>\n",
       "  </thead>\n",
       "  <tbody>\n",
       "    <tr>\n",
       "      <th>0</th>\n",
       "      <td>ABBA</td>\n",
       "      <td>Ahe's My Kind Of Girl</td>\n",
       "      <td>/a/abba/ahes+my+kind+of+girl_20598417.html</td>\n",
       "      <td>Look at her face, it's a wonderful face  \\nAnd...</td>\n",
       "    </tr>\n",
       "    <tr>\n",
       "      <th>1</th>\n",
       "      <td>ABBA</td>\n",
       "      <td>Andante, Andante</td>\n",
       "      <td>/a/abba/andante+andante_20002708.html</td>\n",
       "      <td>Take it easy with me, please  \\nTouch me gentl...</td>\n",
       "    </tr>\n",
       "    <tr>\n",
       "      <th>2</th>\n",
       "      <td>ABBA</td>\n",
       "      <td>As Good As New</td>\n",
       "      <td>/a/abba/as+good+as+new_20003033.html</td>\n",
       "      <td>I'll never know why I had to go  \\nWhy I had t...</td>\n",
       "    </tr>\n",
       "    <tr>\n",
       "      <th>3</th>\n",
       "      <td>ABBA</td>\n",
       "      <td>Bang</td>\n",
       "      <td>/a/abba/bang_20598415.html</td>\n",
       "      <td>Making somebody happy is a question of give an...</td>\n",
       "    </tr>\n",
       "    <tr>\n",
       "      <th>4</th>\n",
       "      <td>ABBA</td>\n",
       "      <td>Bang-A-Boomerang</td>\n",
       "      <td>/a/abba/bang+a+boomerang_20002668.html</td>\n",
       "      <td>Making somebody happy is a question of give an...</td>\n",
       "    </tr>\n",
       "    <tr>\n",
       "      <th>5</th>\n",
       "      <td>ABBA</td>\n",
       "      <td>Burning My Bridges</td>\n",
       "      <td>/a/abba/burning+my+bridges_20003011.html</td>\n",
       "      <td>Well, you hoot and you holler and you make me ...</td>\n",
       "    </tr>\n",
       "  </tbody>\n",
       "</table>\n",
       "</div>"
      ],
      "text/plain": [
       "  artist                   song                                        link  \\\n",
       "0   ABBA  Ahe's My Kind Of Girl  /a/abba/ahes+my+kind+of+girl_20598417.html   \n",
       "1   ABBA       Andante, Andante       /a/abba/andante+andante_20002708.html   \n",
       "2   ABBA         As Good As New        /a/abba/as+good+as+new_20003033.html   \n",
       "3   ABBA                   Bang                  /a/abba/bang_20598415.html   \n",
       "4   ABBA       Bang-A-Boomerang      /a/abba/bang+a+boomerang_20002668.html   \n",
       "5   ABBA     Burning My Bridges    /a/abba/burning+my+bridges_20003011.html   \n",
       "\n",
       "                                                text  \n",
       "0  Look at her face, it's a wonderful face  \\nAnd...  \n",
       "1  Take it easy with me, please  \\nTouch me gentl...  \n",
       "2  I'll never know why I had to go  \\nWhy I had t...  \n",
       "3  Making somebody happy is a question of give an...  \n",
       "4  Making somebody happy is a question of give an...  \n",
       "5  Well, you hoot and you holler and you make me ...  "
      ]
     },
     "execution_count": 1,
     "metadata": {},
     "output_type": "execute_result"
    }
   ],
   "source": [
    "import pandas as pd\n",
    "from sklearn.feature_extraction.text import CountVectorizer, TfidfVectorizer, TfidfTransformer\n",
    "\n",
    "songData = pd.read_csv('/Users/Mughundhan/UIC/UIC Academics/SPRING 2018/TEXT ANALYTICS/Assignment3/songdata.csv', header=0, delimiter=\",\", quoting=0)\n",
    "\n",
    "\n",
    "vect = TfidfVectorizer(min_df =5, stop_words = 'english')\n",
    "song_df = vect.fit_transform(songData.text)\n",
    "song_df.shape\n",
    "songData.head(6)"
   ]
  },
  {
   "cell_type": "markdown",
   "metadata": {},
   "source": [
    "### 2. K-Means Clustering"
   ]
  },
  {
   "cell_type": "markdown",
   "metadata": {},
   "source": [
    "#### K-Means clustering with three clusters"
   ]
  },
  {
   "cell_type": "code",
   "execution_count": 32,
   "metadata": {},
   "outputs": [
    {
     "name": "stdout",
     "output_type": "stream",
     "text": [
      "100% complete and  9.99 Minutes taken\n"
     ]
    }
   ],
   "source": [
    "import time\n",
    "from sklearn.cluster import KMeans\n",
    "import numpy as np\n",
    "\n",
    "start = time.time()\n",
    "\n",
    "kmeans3 = KMeans(3)\n",
    "clusters = kmeans3.fit_predict(song_df)\n",
    "print np.bincount(clusters)\n",
    "\n",
    "start = (time.time() - start) / 60    \n",
    "print \"100% complete and \", round(start, 2), \"Minutes taken\" "
   ]
  },
  {
   "cell_type": "code",
   "execution_count": 33,
   "metadata": {},
   "outputs": [
    {
     "data": {
      "text/plain": [
       "(array([37506.,     0.,     0.,     0.,     0., 14934.,     0.,     0.,\n",
       "            0.,  5210.]),\n",
       " array([0. , 0.2, 0.4, 0.6, 0.8, 1. , 1.2, 1.4, 1.6, 1.8, 2. ]),\n",
       " <a list of 10 Patch objects>)"
      ]
     },
     "execution_count": 33,
     "metadata": {},
     "output_type": "execute_result"
    },
    {
     "data": {
      "image/png": "[encoded data removed]",
      "text/plain": [
       "<matplotlib.figure.Figure at 0x1a2dece9d0>"
      ]
     },
     "metadata": {},
     "output_type": "display_data"
    }
   ],
   "source": [
    "import matplotlib.pyplot as plt\n",
    "\n",
    "%matplotlib inline\n",
    "plt.hist(clusters)"
   ]
  },
  {
   "cell_type": "markdown",
   "metadata": {},
   "source": [
    "#### Identify top five closest documents to each centroid"
   ]
  },
  {
   "cell_type": "code",
   "execution_count": 47,
   "metadata": {},
   "outputs": [
    {
     "name": "stdout",
     "output_type": "stream",
     "text": [
      "----------------------------------------------------------------\n",
      "Cluster: 0\n",
      "(4540     Know you've been hurt by someone else  \\nI can...\n",
      "13907    Some people get up at the break of day  \\nGott...\n",
      "27707    Hey there boy did ya happen to know  \\nWhereve...\n",
      "17260    Another morning, another day in your life  \\nW...\n",
      "26338    Told me baby  \\nYou were just too tired to try...\n",
      "Name: text, dtype: object, '\\n')\n",
      "----------------------------------------------------------------\n",
      "Cluster: 1\n",
      "(5342     You say you want everything good for me,  \\nBu...\n",
      "33148    Baby baby baby  \\nI've been lookin' at you loo...\n",
      "26445    My friends say you're so into me  \\nAnd that y...\n",
      "41875    (JADE)  \\nDaddy doesn't think  \\nThat you'll b...\n",
      "41818    I look at you  \\nYou look at me  \\n(You can't ...\n",
      "Name: text, dtype: object, '\\n')\n",
      "----------------------------------------------------------------\n",
      "Cluster: 2\n",
      "(27550    I know why you want love in the middle of the ...\n",
      "12310    It's so hard to be someone,  \\nIt's so hard to...\n",
      "19864    I talk to you  \\nYou walk away  \\nYou're still...\n",
      "1175     When you say you do  \\nMakes me want to spend ...\n",
      "7060     Give you love, give you love  \\nI'm gonna give...\n",
      "Name: text, dtype: object, '\\n')\n"
     ]
    }
   ],
   "source": [
    "\n",
    "Centroid = kmeans3.transform(song_df)\n",
    "for i in range(Centroid.shape[1]):\n",
    "    temp = np.array(Centroid[:,i])\n",
    "    index_val = np.argsort(temp)[:5]\n",
    "    print(\"----------------------------------------------------------------\")\n",
    "    print(\"Cluster: %d\"%i)\n",
    "    print(songData.text.iloc[index_val],\"\\n\")"
   ]
  },
  {
   "cell_type": "markdown",
   "metadata": {},
   "source": [
    "#### Analysis:\n",
    "A. We can observe that most of the data points or observations belong to the first cluster [Cluster 0]. Further, the third cluster has the least number of observations.  \n",
    "B. Since the number of clusters are very less, there is a huge disproportion in distribution of data-points to different cluster regions."
   ]
  },
  {
   "cell_type": "markdown",
   "metadata": {},
   "source": [
    "### 3. Dimensionality Reduction (to 50 components)"
   ]
  },
  {
   "cell_type": "markdown",
   "metadata": {},
   "source": [
    "#### Reduce Dimension to 50 components using LSA"
   ]
  },
  {
   "cell_type": "code",
   "execution_count": 49,
   "metadata": {},
   "outputs": [
    {
     "name": "stdout",
     "output_type": "stream",
     "text": [
      "(57650, 50)\n"
     ]
    },
    {
     "data": {
      "text/plain": [
       "(50, 22557)"
      ]
     },
     "execution_count": 49,
     "metadata": {},
     "output_type": "execute_result"
    }
   ],
   "source": [
    "from sklearn.decomposition import TruncatedSVD\n",
    "\n",
    "lsa = TruncatedSVD(50)\n",
    "song_df50 = lsa.fit_transform(song_df)\n",
    "print(song_df50.shape)\n",
    "lsa.components_.shape"
   ]
  },
  {
   "cell_type": "markdown",
   "metadata": {},
   "source": [
    "#### Identify the top five features per component on Lower Dimension data"
   ]
  },
  {
   "cell_type": "code",
   "execution_count": 50,
   "metadata": {},
   "outputs": [
    {
     "name": "stdout",
     "output_type": "stream",
     "text": [
      "----------------------------------------------------------------\n",
      "('Component:', 0)\n",
      "[u'love' u'don' u'know' u'll' u'just']\n",
      "----------------------------------------------------------------\n",
      "('Component:', 1)\n",
      "[u'love' u'don' u'got' u'heart' u'gonna']\n",
      "----------------------------------------------------------------\n",
      "('Component:', 2)\n",
      "[u'oh' u'baby' u'yeah' u'll' u'time']\n",
      "----------------------------------------------------------------\n",
      "('Component:', 3)\n",
      "[u'oh' u'don' u'want' u'baby' u'know']\n",
      "----------------------------------------------------------------\n",
      "('Component:', 4)\n",
      "[u'baby' u'don' u'oh' u'want' u'know']\n",
      "----------------------------------------------------------------\n",
      "('Component:', 5)\n",
      "[u'll' u'la' u'baby' u'got' u'yeah']\n",
      "----------------------------------------------------------------\n",
      "('Component:', 6)\n",
      "[u'la' u'll' u'got' u'baby' u'yeah']\n",
      "----------------------------------------------------------------\n",
      "('Component:', 7)\n",
      "[u'want' u'don' u'yeah' u'know' u've']\n",
      "----------------------------------------------------------------\n",
      "('Component:', 8)\n",
      "[u'yeah' u'll' u'let' u'gonna' u'want']\n",
      "----------------------------------------------------------------\n",
      "('Component:', 9)\n",
      "[u'let' u'll' u'want' u'don' u'yeah']\n",
      "----------------------------------------------------------------\n",
      "('Component:', 10)\n",
      "[u'got' u've' u'let' u'yeah' u'don']\n",
      "----------------------------------------------------------------\n",
      "('Component:', 11)\n",
      "[u'gonna' u'yeah' u've' u'know' u'oh']\n",
      "----------------------------------------------------------------\n",
      "('Component:', 12)\n",
      "[u'gonna' u'll' u'christmas' u'yeah' u'like']\n",
      "----------------------------------------------------------------\n",
      "('Component:', 13)\n",
      "[u'christmas' u'like' u'don' u'chorus' u've']\n",
      "----------------------------------------------------------------\n",
      "('Component:', 14)\n",
      "[u'christmas' u'time' u'don' u'come' u'just']\n",
      "----------------------------------------------------------------\n",
      "('Component:', 15)\n",
      "[u'know' u'chorus' u'christmas' u'away' u'hey']\n",
      "----------------------------------------------------------------\n",
      "('Component:', 16)\n",
      "[u'come' u'know' u'hey' u'home' u'don']\n",
      "----------------------------------------------------------------\n",
      "('Component:', 17)\n",
      "[u'hey' u'like' u'say' u'chorus' u'come']\n",
      "----------------------------------------------------------------\n",
      "('Component:', 18)\n",
      "[u'time' u'hey' u'heart' u'girl' u'chorus']\n",
      "----------------------------------------------------------------\n",
      "('Component:', 19)\n",
      "[u'chorus' u'know' u'come' u'man' u'wanna']\n",
      "----------------------------------------------------------------\n",
      "('Component:', 20)\n",
      "[u'time' u'say' u'girl' u'way' u'away']\n",
      "----------------------------------------------------------------\n",
      "('Component:', 21)\n",
      "[u'hey' u'girl' u'like' u'feel' u'life']\n",
      "----------------------------------------------------------------\n",
      "('Component:', 22)\n",
      "[u'chorus' u'hey' u'world' u'need' u'wanna']\n",
      "----------------------------------------------------------------\n",
      "('Component:', 23)\n",
      "[u'night' u'heart' u'come' u'tonight' u'like']\n",
      "----------------------------------------------------------------\n",
      "('Component:', 24)\n",
      "[u'wanna' u'need' u'feel' u'time' u'life']\n",
      "----------------------------------------------------------------\n",
      "('Component:', 25)\n",
      "[u'away' u'say' u'night' u'tonight' u'life']\n",
      "----------------------------------------------------------------\n",
      "('Component:', 26)\n",
      "[u'need' u'girl' u'heart' u'chorus' u've']\n",
      "----------------------------------------------------------------\n",
      "('Component:', 27)\n",
      "[u'home' u'need' u'long' u'way' u'away']\n",
      "----------------------------------------------------------------\n",
      "('Component:', 28)\n",
      "[u'just' u'way' u've' u'heart' u'got']\n",
      "----------------------------------------------------------------\n",
      "('Component:', 29)\n",
      "[u'na' u'just' u'say' u'need' u'like']\n",
      "----------------------------------------------------------------\n",
      "('Component:', 30)\n",
      "[u'na' u'believe' u'man' u'say' u'like']\n",
      "----------------------------------------------------------------\n",
      "('Component:', 31)\n",
      "[u'way' u'just' u'good' u'little' u'man']\n",
      "----------------------------------------------------------------\n",
      "('Component:', 32)\n",
      "[u'good' u'believe' u'na' u'feel' u'world']\n",
      "----------------------------------------------------------------\n",
      "('Component:', 33)\n",
      "[u'life' u'little' u'feel' u'ain' u'heart']\n",
      "----------------------------------------------------------------\n",
      "('Component:', 34)\n",
      "[u'believe' u'lord' u'away' u'long' u'girl']\n",
      "----------------------------------------------------------------\n",
      "('Component:', 35)\n",
      "[u'man' u'home' u'little' u'day' u'life']\n",
      "----------------------------------------------------------------\n",
      "('Component:', 36)\n",
      "[u'little' u'just' u'long' u'tonight' u'life']\n",
      "----------------------------------------------------------------\n",
      "('Component:', 37)\n",
      "[u'man' u'good' u'tonight' u'blue' u'make']\n",
      "----------------------------------------------------------------\n",
      "('Component:', 38)\n",
      "[u'tell' u'feel' u'ooh' u'tonight' u'say']\n",
      "----------------------------------------------------------------\n",
      "('Component:', 39)\n",
      "[u'world' u'way' u'tell' u'say' u'make']\n",
      "----------------------------------------------------------------\n",
      "('Component:', 40)\n",
      "[u'home' u'tonight' u'world' u'feel' u'say']\n",
      "----------------------------------------------------------------\n",
      "('Component:', 41)\n",
      "[u'ooh' u'rock' u'dream' u'tonight' u'say']\n",
      "----------------------------------------------------------------\n",
      "('Component:', 42)\n",
      "[u'long' u'tell' u'think' u'better' u'make']\n",
      "----------------------------------------------------------------\n",
      "('Component:', 43)\n",
      "[u'tell' u'day' u'rock' u'ain' u'ooh']\n",
      "----------------------------------------------------------------\n",
      "('Component:', 44)\n",
      "[u'day' u'tonight' u'night' u'dream' u'gone']\n",
      "----------------------------------------------------------------\n",
      "('Component:', 45)\n",
      "[u'won' u'make' u'song' u'sing' u'ain']\n",
      "----------------------------------------------------------------\n",
      "('Component:', 46)\n",
      "[u'rock' u'dream' u'roll' u'woman' u'hold']\n",
      "----------------------------------------------------------------\n",
      "('Component:', 47)\n",
      "[u'make' u'won' u'think' u'right' u'feel']\n",
      "----------------------------------------------------------------\n",
      "('Component:', 48)\n",
      "[u'hold' u'rock' u'right' u'roll' u'god']\n",
      "----------------------------------------------------------------\n",
      "('Component:', 49)\n",
      "[u'gone' u'ain' u'long' u'night' u'right']\n"
     ]
    }
   ],
   "source": [
    "words = np.array(vect.get_feature_names())\n",
    "for i in range(song_df50.shape[1]):\n",
    "    s_order = np.abs(lsa.components_[i]).argsort()[::-1]\n",
    "    print(\"----------------------------------------------------------------\")\n",
    "    print(\"Component:\",i)\n",
    "    print(words[s_order[:5]])"
   ]
  },
  {
   "cell_type": "markdown",
   "metadata": {},
   "source": [
    "#### Analysis: \n",
    "A.  We can see that, most of the components have the features “love”, “heart”, “feel” and similar features. With this we can say that most of the songs are either romantic in nature or belongs to the topic “love”. \n",
    "\n",
    "B.  Another interesting feature is that we come across features like “rock”, “roll”, “night” in many of the components. With this we can conclude that most of the songs are played in party kind of set-up. "
   ]
  },
  {
   "cell_type": "markdown",
   "metadata": {},
   "source": [
    "### 4. K-Means Clustering - Multiple clusters\n"
   ]
  },
  {
   "cell_type": "markdown",
   "metadata": {},
   "source": [
    "#### Perform K-Means clustering for 2 to 11 clusters"
   ]
  },
  {
   "cell_type": "code",
   "execution_count": 51,
   "metadata": {},
   "outputs": [
    {
     "name": "stdout",
     "output_type": "stream",
     "text": [
      "[11811.127102812097, 11573.386103641897, 11392.341550018542, 11190.470134793899, 11070.048125710953, 10963.279092537696, 10800.725088753466, 10649.554031677653, 10573.858348469641]\n",
      "100% complete and  1.66 Minutes taken\n"
     ]
    }
   ],
   "source": [
    "vect1 = TfidfVectorizer(min_df = 30, stop_words = 'english')\n",
    "temp2 = vect1.fit_transform(songData.text)\n",
    "\n",
    "lsa = TruncatedSVD(100)\n",
    "song_df50 = lsa.fit_transform(temp2)\n",
    "inertia = []\n",
    "\n",
    "start = time.time()\n",
    "\n",
    "\n",
    "for i in range(2, 11):\n",
    "    kmeans2_11 = KMeans(i, n_jobs = 1)\n",
    "    kmeans2_11.fit_predict(song_df50)\n",
    "    inertia.append(kmeans2_11.inertia_)\n",
    "    \n",
    "print(inertia)\n",
    "start = (time.time() - start) / 60    \n",
    "print \"100% complete and \", round(start, 2), \"Minutes taken\" "
   ]
  },
  {
   "cell_type": "markdown",
   "metadata": {},
   "source": [
    "#### Identify the best number of clusters using the Elbow Method"
   ]
  },
  {
   "cell_type": "code",
   "execution_count": 52,
   "metadata": {},
   "outputs": [
    {
     "data": {
      "text/plain": [
       "[<matplotlib.lines.Line2D at 0x1134e2ad0>]"
      ]
     },
     "execution_count": 52,
     "metadata": {},
     "output_type": "execute_result"
    },
    {
     "data": {
      "image/png": "[encoded data removed]",
      "text/plain": [
       "<matplotlib.figure.Figure at 0x115163710>"
      ]
     },
     "metadata": {},
     "output_type": "display_data"
    }
   ],
   "source": [
    "%matplotlib inline\n",
    "\n",
    "plt.xlabel(\"Different K-Values\")\n",
    "plt.ylabel(\"Inertia\")\n",
    "plt.plot(range(2,11),inertia)"
   ]
  },
  {
   "cell_type": "markdown",
   "metadata": {},
   "source": [
    "### 5. Using the best number of clusters"
   ]
  },
  {
   "cell_type": "markdown",
   "metadata": {},
   "source": [
    "#### Identify top five closest documents to each cluster’s centroid (for the newly identified best number of clusters) "
   ]
  },
  {
   "cell_type": "code",
   "execution_count": 54,
   "metadata": {},
   "outputs": [
    {
     "name": "stdout",
     "output_type": "stream",
     "text": [
      "----------------------------------------------------------------\n",
      "Cluster: 0\n",
      "(32662    Can you blow my whistle baby, whistle baby  \\n...\n",
      "23409    House of fire  \\nHouse of fire, yeah  \\nLet's ...\n",
      "52239    Way down in Alabama  \\nThere's a girl just a w...\n",
      "1990     I wanna see you move  \\nCan you turn me up a l...\n",
      "7019     Make pretend like in the movies  \\nAnd do anot...\n",
      "Name: text, dtype: object, '\\n')\n",
      "----------------------------------------------------------------\n",
      "Cluster: 1\n",
      "(8546     The sun rises and sets on time every day of th...\n",
      "21263    Things just haven't been the same  \\nSince the...\n",
      "848      I'm a shark, I'm a shark,  \\nA killer of the o...\n",
      "26187    No apology (no apology)  \\nWe will not back do...\n",
      "36359    (ian hunter)  \\n  \\n(transcribed by colin ford...\n",
      "Name: text, dtype: object, '\\n')\n",
      "----------------------------------------------------------------\n",
      "Cluster: 2\n",
      "(49916    Oh, carry home my broken bones and lay me down...\n",
      "26594    Hey little girl is your daddy home?  \\nDid he ...\n",
      "52878    Oh  \\nOh wo oh wo oh wo oh wo  \\nOh wo oh wo o...\n",
      "7924     First at the gate post but the last one throug...\n",
      "52110    A vacation in the foreign land  \\nUncle Sam do...\n",
      "Name: text, dtype: object, '\\n')\n",
      "----------------------------------------------------------------\n",
      "Cluster: 3\n",
      "(52023    We are running out of time  \\nWe've got one fo...\n",
      "41959    One shot  \\nOh lord  \\nYou know, it's gonna be...\n",
      "17113    Can't get enough of this everyday love  \\nCan'...\n",
      "38392    Ain't it beautiful  \\nDon't it make you feel c...\n",
      "36883    I never thought I'd fall so far down  \\nThis i...\n",
      "Name: text, dtype: object, '\\n')\n",
      "----------------------------------------------------------------\n",
      "Cluster: 4\n",
      "(11246    Kim: Lea Salonga  \\nEllen: Claire Moore  \\n  \\...\n",
      "1735     I went to see the preacher  \\nTo teach me how ...\n",
      "37918    [Alan Jackson]  \\nThe sun is hot and that old ...\n",
      "8546     The sun rises and sets on time every day of th...\n",
      "32665    Flo-Rida  \\nGucci!  \\nBird!  \\n  \\nI done boug...\n",
      "Name: text, dtype: object, '\\n')\n"
     ]
    }
   ],
   "source": [
    "from sklearn.cluster import KMeans\n",
    "kmeans5 = KMeans(5,n_jobs=1,n_init=5)\n",
    "clusters5 = kmeans5.fit_predict(song_df50)\n",
    "dist1 = kmeans5.transform(song_df50)\n",
    "for i in range(dist1.shape[1]):\n",
    "    temp1 = np.array(dist1[:,i])\n",
    "    index_val1 = np.argsort(temp1)[:5]\n",
    "    print(\"----------------------------------------------------------------\")\n",
    "    print(\"Cluster: %d\"%i)\n",
    "    print(songData.text.iloc[index_val1],\"\\n\")\n"
   ]
  },
  {
   "cell_type": "markdown",
   "metadata": {},
   "source": [
    "#### Analysis: \n",
    "\n",
    "A. The best number of clusters we have found through the elbow method is 5.\n",
    "\n",
    "B. We can observe that the documents are more spread out when the number of clusters = 5."
   ]
  },
  {
   "cell_type": "markdown",
   "metadata": {},
   "source": [
    "### 6. Dimensionality Reduction (to 2 components)"
   ]
  },
  {
   "cell_type": "markdown",
   "metadata": {},
   "source": [
    "#### Reduce Dimension to 2 components using LSA"
   ]
  },
  {
   "cell_type": "code",
   "execution_count": 55,
   "metadata": {},
   "outputs": [
    {
     "data": {
      "text/plain": [
       "(57650, 2)"
      ]
     },
     "execution_count": 55,
     "metadata": {},
     "output_type": "execute_result"
    }
   ],
   "source": [
    "lsa2 = TruncatedSVD(2)\n",
    "song_df2 = lsa2.fit_transform(song_df)\n",
    "song_df2.shape"
   ]
  },
  {
   "cell_type": "markdown",
   "metadata": {},
   "source": [
    "#### K-Means Clustering with 3 clusters on Lower Dimension"
   ]
  },
  {
   "cell_type": "code",
   "execution_count": 56,
   "metadata": {},
   "outputs": [],
   "source": [
    "kmeans3 = KMeans(3)\n",
    "kmeans3_lsa = kmeans3.fit_predict(song_df2)"
   ]
  },
  {
   "cell_type": "markdown",
   "metadata": {},
   "source": [
    "#### Scatterplot to visualize the distribution of data points across the clusters"
   ]
  },
  {
   "cell_type": "code",
   "execution_count": 72,
   "metadata": {},
   "outputs": [
    {
     "data": {
      "text/plain": [
       "Text(0.5,1,u'Two Dimensions and Three Clusters')"
      ]
     },
     "execution_count": 72,
     "metadata": {},
     "output_type": "execute_result"
    },
    {
     "data": {
      "image/png": "[encoded data removed]",
      "text/plain": [
       "<matplotlib.figure.Figure at 0x1a2dc2b910>"
      ]
     },
     "metadata": {},
     "output_type": "display_data"
    }
   ],
   "source": [
    "import seaborn as sb\n",
    "\n",
    "sb.set(font_scale=1.5)\n",
    "sb.set_style('white')\n",
    "customPalette = ['Maroon', 'Green', 'Orange']\n",
    "sb.set_palette(customPalette)\n",
    "\n",
    "plot_df = pd.concat([pd.DataFrame(song_df2,columns=[\"X -->\",\"Y -->\"]),pd.DataFrame(kmeans3_lsa,columns=[\"Legends\"])],axis=1)\n",
    "facet = sb.lmplot(data=plot_df, x='X -->', y='Y -->', hue='Legends', \n",
    "                   fit_reg=False, legend=False, legend_out=True,size = 6)\n",
    "plt.legend(loc='upper left')\n",
    "ax = plt.gca()\n",
    "ax.set_title(\"Two Dimensions and Three Clusters\")\n"
   ]
  },
  {
   "cell_type": "code",
   "execution_count": null,
   "metadata": {},
   "outputs": [],
   "source": []
  }
 ],
 "metadata": {
  "kernelspec": {
   "display_name": "Python 2",
   "language": "python",
   "name": "python2"
  },
  "language_info": {
   "codemirror_mode": {
    "name": "ipython",
    "version": 2
   },
   "file_extension": ".py",
   "mimetype": "text/x-python",
   "name": "python",
   "nbconvert_exporter": "python",
   "pygments_lexer": "ipython2",
   "version": "2.7.14"
  }
 },
 "nbformat": 4,
 "nbformat_minor": 2
}
